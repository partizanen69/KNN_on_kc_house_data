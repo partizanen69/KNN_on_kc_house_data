{
 "cells": [
  {
   "cell_type": "code",
   "execution_count": 1,
   "metadata": {},
   "outputs": [
    {
     "data": {
      "text/plain": [
       "(21612, 15)"
      ]
     },
     "execution_count": 1,
     "metadata": {},
     "output_type": "execute_result"
    }
   ],
   "source": [
    "import pandas as pd\n",
    "pd.set_option('display.max_columns', None)\n",
    "import random\n",
    "\n",
    "k = 3\n",
    "\n",
    "data = pd.read_csv('./kc_house_data.csv')\n",
    "cols_for_knn = ['bedrooms', 'bathrooms', 'sqft_living', 'sqft_lot', \n",
    "                'floors', 'condition', 'grade', 'sqft_above', 'sqft_basement', \n",
    "                'yr_built', 'lat', 'long', 'sqft_living15', 'sqft_lot15', 'price']\n",
    "\n",
    "data = data.loc[0:, cols_for_knn]\n",
    "data.head()\n",
    "data.shape"
   ]
  },
  {
   "cell_type": "code",
   "execution_count": 2,
   "metadata": {},
   "outputs": [],
   "source": [
    "# normalize all columns except label\n",
    "def normalize_column(column):\n",
    "    min = column.min()\n",
    "    max = column.max()\n",
    "    diff = max - min\n",
    "    \n",
    "    def normalize_value(val):\n",
    "        val = (val - min) / diff\n",
    "        return val\n",
    "    \n",
    "    column = column.apply(normalize_value)\n",
    "    return column\n",
    "\n",
    "for column in data.columns:\n",
    "    if column == 'price':\n",
    "        continue\n",
    "    data[column] = normalize_column(data[column])\n",
    "\n",
    "# separate test data and training data\n",
    "test_data = pd.DataFrame(columns = list(data.columns))\n",
    "rows_count = data.shape[0]\n",
    "\n",
    "for i in range(0, 100):\n",
    "    idx = random.randrange(rows_count)\n",
    "    test_row = data.iloc[idx:idx + 1]\n",
    "    test_data = pd.concat([test_data, test_row])\n",
    "    data.drop(idx, inplace = True)    \n",
    "    \n",
    "train_data = data\n",
    "del data"
   ]
  },
  {
   "cell_type": "code",
   "execution_count": 3,
   "metadata": {},
   "outputs": [
    {
     "name": "stdout",
     "output_type": "stream",
     "text": [
      "The average deviation of prediction from real price is: 10.94 percent\n",
      "Describe error percent column:\n"
     ]
    },
    {
     "data": {
      "text/plain": [
       "count    100.000000\n",
       "mean       1.313000\n",
       "std       14.843592\n",
       "min      -32.659091\n",
       "25%       -7.460816\n",
       "50%       -0.449266\n",
       "75%        8.148065\n",
       "max       49.540231\n",
       "Name: error_perc, dtype: float64"
      ]
     },
     "execution_count": 3,
     "metadata": {},
     "output_type": "execute_result"
    }
   ],
   "source": [
    "last_col_idx = test_data.shape[1] - 1\n",
    "\n",
    "test_data_features = test_data.iloc[0:, 0:last_col_idx]\n",
    "test_data_labels = test_data.iloc[0:, last_col_idx:]\n",
    "\n",
    "def predict_price(row, train_data):\n",
    "    train_data_features = train_data.iloc[0:, 0:last_col_idx]\n",
    "    train_data_labels = train_data.iloc[0:, last_col_idx]\n",
    "\n",
    "    train_data_features = (train_data_features - row) ** 2\n",
    "    distance = train_data_features.sum(axis = 1) ** 0.5\n",
    "    distance = distance.rename('distance')\n",
    "\n",
    "    train_data_labels = pd.concat([distance, train_data_labels], axis = 1)\n",
    "    train_data_labels = train_data_labels.sort_values(by = ['distance'])\n",
    "    train_data_labels = train_data_labels[0:k]\n",
    "\n",
    "    predicted_price = round(train_data_labels['price'].mean(), 2)\n",
    "    return predicted_price\n",
    "\n",
    "predictions = []\n",
    "\n",
    "for idx in range(len(test_data_features.index)):\n",
    "    row = test_data_features.iloc[idx]\n",
    "    predicted_price = predict_price(row, train_data)\n",
    "    predictions.append(predicted_price)\n",
    "\n",
    "test_data['prediction'] = predictions\n",
    "test_data['error_perc'] = (test_data['prediction'] - test_data['price']) / test_data['price'] * 100\n",
    "\n",
    "def calc_average_error(errors):\n",
    "    errors = abs(errors)\n",
    "    return errors.sum() / len(errors)\n",
    "\n",
    "average_error = calc_average_error(test_data['error_perc'])\n",
    "print('The average deviation of prediction from real price is:', round(average_error, 2), 'percent')\n",
    "print('Describe error percent column:')\n",
    "test_data['error_perc'].describe()"
   ]
  },
  {
   "cell_type": "code",
   "execution_count": null,
   "metadata": {},
   "outputs": [],
   "source": []
  },
  {
   "cell_type": "code",
   "execution_count": null,
   "metadata": {},
   "outputs": [],
   "source": []
  },
  {
   "cell_type": "code",
   "execution_count": null,
   "metadata": {},
   "outputs": [],
   "source": []
  },
  {
   "cell_type": "code",
   "execution_count": null,
   "metadata": {},
   "outputs": [],
   "source": []
  },
  {
   "cell_type": "code",
   "execution_count": null,
   "metadata": {},
   "outputs": [],
   "source": []
  },
  {
   "cell_type": "code",
   "execution_count": null,
   "metadata": {},
   "outputs": [],
   "source": []
  },
  {
   "cell_type": "code",
   "execution_count": null,
   "metadata": {},
   "outputs": [],
   "source": []
  },
  {
   "cell_type": "code",
   "execution_count": null,
   "metadata": {},
   "outputs": [],
   "source": []
  },
  {
   "cell_type": "code",
   "execution_count": null,
   "metadata": {},
   "outputs": [],
   "source": []
  },
  {
   "cell_type": "code",
   "execution_count": null,
   "metadata": {},
   "outputs": [],
   "source": []
  },
  {
   "cell_type": "code",
   "execution_count": null,
   "metadata": {},
   "outputs": [],
   "source": []
  },
  {
   "cell_type": "code",
   "execution_count": null,
   "metadata": {},
   "outputs": [],
   "source": []
  },
  {
   "cell_type": "code",
   "execution_count": null,
   "metadata": {},
   "outputs": [],
   "source": []
  }
 ],
 "metadata": {
  "kernelspec": {
   "display_name": "Python 3",
   "language": "python",
   "name": "python3"
  },
  "language_info": {
   "codemirror_mode": {
    "name": "ipython",
    "version": 3
   },
   "file_extension": ".py",
   "mimetype": "text/x-python",
   "name": "python",
   "nbconvert_exporter": "python",
   "pygments_lexer": "ipython3",
   "version": "3.7.5"
  }
 },
 "nbformat": 4,
 "nbformat_minor": 4
}
